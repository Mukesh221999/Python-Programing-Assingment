{
 "cells": [
  {
   "cell_type": "markdown",
   "id": "4321f4a6",
   "metadata": {},
   "source": [
    "# Question 1:\n",
    "# Write a program that calculates and prints the value according to the given formula:\n",
    "# Q = Square root of [(2 * C * D)/H]\n",
    "# Following are the fixed values of C and H:\n",
    "# C is 50. H is 30.\n",
    "# D is the variable whose values should be input to your program in a comma-separated sequence.\n",
    "# Example\n",
    "# Let us assume the following comma separated input sequence is given to the program:\n",
    "# 100,150,180\n",
    "# The output of the program should be:\n",
    "# 18,22,24\n"
   ]
  },
  {
   "cell_type": "code",
   "execution_count": null,
   "id": "4dab54c6",
   "metadata": {},
   "outputs": [],
   "source": []
  },
  {
   "cell_type": "code",
   "execution_count": 3,
   "id": "23d87340",
   "metadata": {},
   "outputs": [
    {
     "name": "stdout",
     "output_type": "stream",
     "text": [
      "Enter the Input: 10,30,50\n",
      "Output: 5,10,12\n"
     ]
    }
   ],
   "source": [
    "from math import sqrt\n",
    "def calculateProgram():\n",
    "    in_num = eval(input(\"Enter the Input: \"))\n",
    "    out_num = []\n",
    "    C = 50 # Declaring and initializing constant C\n",
    "    H = 30 # Declaring and initializing constant H\n",
    "    for a in in_num:\n",
    "        Q = str(int(sqrt((2*C*a)/H)))\n",
    "        out_num.append(Q)\n",
    "    print(\"Output: {}\".format(','.join(out_num)))\n",
    "    \n",
    "calculateProgram()\n",
    "\n",
    "\n",
    "     "
   ]
  },
  {
   "cell_type": "markdown",
   "id": "21111a27",
   "metadata": {},
   "source": [
    "# Question 2:\n",
    "# Write a program which takes 2 digits, X,Y as input and generates a 2- dimensional array. The element value in the i-th row and j-th column of the array should be i*j. Note: i=0,1.., X-1; j=0,1,¡Y-1.\n",
    "# Example\n",
    "# Suppose the following inputs are given to the program:\n",
    "# 3,5\n",
    "# Then, the output of the program should be:\n",
    "# [[0, 0, 0, 0, 0], [0, 1, 2, 3, 4], [0, 2, 4, 6, 8]]\n",
    "\n"
   ]
  },
  {
   "cell_type": "code",
   "execution_count": 4,
   "id": "90daa62c",
   "metadata": {},
   "outputs": [
    {
     "name": "stdout",
     "output_type": "stream",
     "text": [
      "Enter the No of Rows:4\n",
      "Enter the No of Columns:4\n",
      "[[0, 0, 0, 0], [0, 1, 2, 3], [0, 2, 4, 6], [0, 3, 6, 9]]\n"
     ]
    }
   ],
   "source": [
    "import array as arr\n",
    "def generateArray():\n",
    "    in_x = int(input('Enter the No of Rows:'))\n",
    "    in_y = int(input('Enter the No of Columns:')) \n",
    "    out_array = []\n",
    "    for a in range(in_x):\n",
    "        out_array.insert(in_x,[])\n",
    "        for sub_a in range(in_y):\n",
    "            out_array[a].append(a*sub_a)\n",
    "    print(out_array)\n",
    "    \n",
    "generateArray()"
   ]
  },
  {
   "cell_type": "markdown",
   "id": "54d633c6",
   "metadata": {},
   "source": [
    "# Question 3:\n",
    "# Write a program that accepts a comma separated sequence of words as input  and prints the words in a comma-separated sequence after sorting them alphabetically.\n",
    "# Suppose the following input is supplied to the program:\n",
    "# without,hello,bag,world\n",
    "# Then, the output should be:\n",
    "# bag,hello,without,world\n",
    "\n"
   ]
  },
  {
   "cell_type": "code",
   "execution_count": 5,
   "id": "ace50f9c",
   "metadata": {},
   "outputs": [
    {
     "name": "stdout",
     "output_type": "stream",
     "text": [
      "Enter the Input String: without,hello,bag,world\n",
      "Output: bag,hello,without,world\n"
     ]
    }
   ],
   "source": [
    "def sortString():\n",
    "    in_string = input(\"Enter the Input String: \")\n",
    "    out_string = ','.join(sorted(in_string.split(',')))\n",
    "    print(f'Output: {out_string}')\n",
    "    \n",
    "sortString()"
   ]
  },
  {
   "cell_type": "markdown",
   "id": "1c0c0ca6",
   "metadata": {},
   "source": [
    "# Question 4:\n",
    "# Write a program that accepts a sequence of whitespace separated words as input and prints the words after removing all duplicate words and sorting them alphanumerically.\n",
    "# Suppose the following input is supplied to the program:\n",
    "# hello world and practice makes perfect and hello world again\n",
    "# Then, the output should be:\n",
    "# again and hello makes perfect practice world\n",
    "\n"
   ]
  },
  {
   "cell_type": "code",
   "execution_count": 6,
   "id": "ff097a9f",
   "metadata": {},
   "outputs": [
    {
     "name": "stdout",
     "output_type": "stream",
     "text": [
      "Enter the Input String: hello world and practice makes perfect and hello world again\n",
      "Output: again and hello makes perfect practice world\n"
     ]
    }
   ],
   "source": [
    "def sortAlphaNumerically():\n",
    "    in_string = input(\"Enter the Input String: \")\n",
    "    out_string = ' '.join(sorted(sorted(list(set(in_string.split(\" \"))))))\n",
    "    print(f'Output: {out_string}')\n",
    "    \n",
    "sortAlphaNumerically()"
   ]
  },
  {
   "cell_type": "markdown",
   "id": "43c30eb6",
   "metadata": {},
   "source": [
    "# Question 5:\n",
    "# Write a program that accepts a sentence and calculate the number of letters and digits.\n",
    "# Suppose the following input is supplied to the program:\n",
    "# hello world! 123\n",
    "# Then, the output should be:\n",
    "# LETTERS 10\n",
    "# DIGITS 3"
   ]
  },
  {
   "cell_type": "code",
   "execution_count": 2,
   "id": "04a62ea7",
   "metadata": {},
   "outputs": [
    {
     "name": "stdout",
     "output_type": "stream",
     "text": [
      "Enter the Input String: hi my namme is !123\n",
      "LETTERS 11 \n",
      "DIGITS 3\n"
     ]
    }
   ],
   "source": [
    "def countLetterAndDigits():\n",
    "    in_string = input(\"Enter the Input String: \")\n",
    "    lettersList = 'ABCDEFGHIJKLMNOPQRSTUVWXYZabcdefghijklmnopqrstuvwxyz'\n",
    "    digitsList = '0123456789'\n",
    "    letters = 0\n",
    "    digits = 0\n",
    "    for ele in in_string:\n",
    "        if ele in lettersList:\n",
    "            letters += 1\n",
    "        if ele in digitsList:\n",
    "            digits += 1\n",
    "    print(f'LETTERS {letters} \\nDIGITS {digits}')\n",
    "        \n",
    "countLetterAndDigits()\n",
    "\n"
   ]
  },
  {
   "cell_type": "markdown",
   "id": "aaa12ad4",
   "metadata": {},
   "source": [
    "# Question 6:\n",
    "# A website requires the users to input username and password to register. Write a program to check the validity of password input by users.\n",
    "# Following are the criteria for checking the password:\n",
    "# 1. At least 1 letter between [a-z]\n",
    "# 2. At least 1 number between [0-9]\n",
    "# 1. At least 1 letter between [A-Z]\n",
    "# 3. At least 1 character from [$#@]"
   ]
  },
  {
   "cell_type": "markdown",
   "id": "1bcefd9a",
   "metadata": {},
   "source": [
    "# 4. Minimum length of transaction password: 6\n",
    "# 5. Maximum length of transaction password: 12\n",
    "# Your program should accept a sequence of comma separated passwords and will check them according to the above criteria. Passwords that match the criteria are to be printed, each separated by a comma.\n",
    "# Example\n",
    "# If the following passwords are given as input to the program:\n",
    "# ABd1234@1,a F1#,2w3E*,2We3345\n",
    "# Then, the output of the program should be:\n",
    "# ABd1234@1"
   ]
  },
  {
   "cell_type": "code",
   "execution_count": 1,
   "id": "0f37e2a7",
   "metadata": {},
   "outputs": [
    {
     "name": "stdout",
     "output_type": "stream",
     "text": [
      "Enter the Input String: ABd1234@1,a F1#,2w3E*,2We3345\n",
      "ABd1234@1\n"
     ]
    }
   ],
   "source": [
    "def checkPassword():\n",
    "    in_string = input(\"Enter the Input String: \")\n",
    "    small_list = \"abcdefghijklmnopqrstuvwxyz\"\n",
    "    cap_list = \"ABCDEFGHIJKLMNOPQRSTUVWXYZ\"\n",
    "    num_list = \"0123456789\"\n",
    "    special_list = \"$#@\"\n",
    "    for a in in_string.split(\",\"):\n",
    "        if len(a) <= 12 and len(a) >=6 :\n",
    "            if any(i.isupper() for i in a):\n",
    "                if any(i.islower() for i in a):\n",
    "                    if any(i for i in a if i in special_list):\n",
    "                        print(a)\n",
    "                               \n",
    "checkPassword() "
   ]
  },
  {
   "cell_type": "code",
   "execution_count": null,
   "id": "55edf8f8",
   "metadata": {},
   "outputs": [],
   "source": []
  }
 ],
 "metadata": {
  "kernelspec": {
   "display_name": "Python 3 (ipykernel)",
   "language": "python",
   "name": "python3"
  },
  "language_info": {
   "codemirror_mode": {
    "name": "ipython",
    "version": 3
   },
   "file_extension": ".py",
   "mimetype": "text/x-python",
   "name": "python",
   "nbconvert_exporter": "python",
   "pygments_lexer": "ipython3",
   "version": "3.9.7"
  }
 },
 "nbformat": 4,
 "nbformat_minor": 5
}
